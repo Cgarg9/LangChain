{
 "cells": [
  {
   "cell_type": "code",
   "execution_count": 1,
   "id": "2b25021a",
   "metadata": {},
   "outputs": [],
   "source": [
    "from key import openapi_key\n",
    "import os\n",
    "\n",
    "os.environ[\"OPENAI_API_KEY\"] = openapi_key"
   ]
  },
  {
   "cell_type": "code",
   "execution_count": 3,
   "id": "ab37a784",
   "metadata": {},
   "outputs": [
    {
     "name": "stderr",
     "output_type": "stream",
     "text": [
      "C:\\Users\\chira\\anaconda3\\Lib\\site-packages\\langchain_core\\_api\\deprecation.py:117: LangChainDeprecationWarning: The function `__call__` was deprecated in LangChain 0.1.7 and will be removed in 0.2.0. Use invoke instead.\n",
      "  warn_deprecated(\n"
     ]
    },
    {
     "name": "stdout",
     "output_type": "stream",
     "text": [
      "\n",
      "\n",
      "\"Maharaja's Palace\" \n"
     ]
    }
   ],
   "source": [
    "from langchain.llms import OpenAI \n",
    "\n",
    "llm = OpenAI(temperature = 0.6)\n",
    "name = llm(\"I want to open a restaurant for Indian food. Suggest a fancy name\")\n",
    "print(name)"
   ]
  },
  {
   "cell_type": "code",
   "execution_count": 4,
   "id": "d3b1436c",
   "metadata": {},
   "outputs": [],
   "source": [
    "from langchain.prompts import PromptTemplate\n",
    "\n",
    "prompt_template_name = PromptTemplate(\n",
    "    input_variables = ['cuisine'],\n",
    "    template = \"I want to open an {cuisine} food restaurant. Suggest a single fancy name for this?\"\n",
    ")\n"
   ]
  },
  {
   "cell_type": "code",
   "execution_count": 5,
   "id": "03d4f110",
   "metadata": {},
   "outputs": [
    {
     "data": {
      "text/plain": [
       "'I want to open an Mexican food restaurant. Suggest a single fancy name for this?'"
      ]
     },
     "execution_count": 5,
     "metadata": {},
     "output_type": "execute_result"
    }
   ],
   "source": [
    "prompt_template_name.format(cuisine = \"Mexican\")"
   ]
  },
  {
   "cell_type": "code",
   "execution_count": 6,
   "id": "1d95489f",
   "metadata": {},
   "outputs": [],
   "source": [
    "from langchain.chains import LLMChain\n",
    "name_chain = LLMChain(llm = llm, prompt = prompt_template_name, output_key = \"restaurant_name\")"
   ]
  },
  {
   "cell_type": "code",
   "execution_count": 7,
   "id": "a5aed33c",
   "metadata": {},
   "outputs": [
    {
     "name": "stderr",
     "output_type": "stream",
     "text": [
      "C:\\Users\\chira\\anaconda3\\Lib\\site-packages\\langchain_core\\_api\\deprecation.py:117: LangChainDeprecationWarning: The function `run` was deprecated in LangChain 0.1.0 and will be removed in 0.2.0. Use invoke instead.\n",
      "  warn_deprecated(\n"
     ]
    },
    {
     "data": {
      "text/plain": [
       "'\\n\\n\"Stateside Eats\"'"
      ]
     },
     "execution_count": 7,
     "metadata": {},
     "output_type": "execute_result"
    }
   ],
   "source": [
    "name_chain.run(\"American\")"
   ]
  },
  {
   "cell_type": "code",
   "execution_count": 8,
   "id": "bb71de9e",
   "metadata": {},
   "outputs": [],
   "source": [
    "prompt_template_items = PromptTemplate(\n",
    "    input_variables = ['restaurant_name'],\n",
    "    template = \"Suggest a few food items for {restaurant_name} restaurant. Return as comma seperated values\"\n",
    ")\n",
    "food_item_chain = LLMChain(llm = llm, prompt = prompt_template_items, output_key=\"menu_items\")"
   ]
  },
  {
   "cell_type": "code",
   "execution_count": 9,
   "id": "d5f884f2",
   "metadata": {},
   "outputs": [
    {
     "data": {
      "text/plain": [
       "\"\\n\\n1. Hummus, Falafel, Shawarma, Kebabs, Tabouleh, Baba Ganoush, Baklava, Kofta, Manakish, Fatayer, Fattoush, Kunafa, Maqluba, Mandi, Labneh, Sambousek, Harissa, Shawarma platter, Za'atar bread, Kibbeh, Lentil soup, Chicken shawarma wrap, Lamb kebab skewers.\""
      ]
     },
     "execution_count": 9,
     "metadata": {},
     "output_type": "execute_result"
    }
   ],
   "source": [
    "food_item_chain.run(\"Arabic\")"
   ]
  },
  {
   "cell_type": "code",
   "execution_count": 10,
   "id": "b80e43e2",
   "metadata": {},
   "outputs": [],
   "source": [
    "# sequence would matter in a sequential chain\n",
    "# only final response obtained"
   ]
  },
  {
   "cell_type": "code",
   "execution_count": 11,
   "id": "b0805a10",
   "metadata": {},
   "outputs": [
    {
     "name": "stdout",
     "output_type": "stream",
     "text": [
      "\n",
      "\n",
      "1. Chicken Tikka Masala, Samosas, Naan\n",
      "2. Lamb Vindaloo, Vegetable Biryani, Garlic Naan\n",
      "3. Chana Masala, Tandoori Chicken, Mango Lassi\n",
      "4. Paneer Tikka, Aloo Gobi, Onion Bhaji\n",
      "5. Butter Chicken, Palak Paneer, Malai Kofta\n",
      "6. Masala Dosa, Chicken Korma, Vegetable Pakoras\n",
      "7. Rogan Josh, Dal Makhani, Raita\n",
      "8. Chicken Biryani, Baingan Bharta, Tandoori Roti\n",
      "9. Palak Chaat, Keema Naan, Mango Chutney\n",
      "10. Gulab Jamun, Kulfi, Rice Pudding\n"
     ]
    }
   ],
   "source": [
    "from langchain.chains import SimpleSequentialChain\n",
    "chain = SimpleSequentialChain(chains = [name_chain, food_item_chain])\n",
    "response = chain.run(\"Indian\")\n",
    "print(response)"
   ]
  },
  {
   "cell_type": "code",
   "execution_count": 12,
   "id": "26a1c4df",
   "metadata": {},
   "outputs": [],
   "source": [
    "# to get multiple outputs"
   ]
  },
  {
   "cell_type": "code",
   "execution_count": 14,
   "id": "86c994d3",
   "metadata": {},
   "outputs": [
    {
     "data": {
      "text/plain": [
       "{'cuisine': 'Arabic',\n",
       " 'restaurant_name': '\\n\\n\"Sahara Bites\" ',\n",
       " 'menu_items': '\\n\\n1. Shawarma Wraps\\n2. Falafel Platter\\n3. Hummus and Pita Bread\\n4. Lamb Kebabs\\n5. Chicken Shawarma Bowl\\n6. Baba Ganoush\\n7. Beef Kofta\\n8. Tabouleh Salad\\n9. Lentil Soup\\n10. Baklava Dessert, '}"
      ]
     },
     "execution_count": 14,
     "metadata": {},
     "output_type": "execute_result"
    }
   ],
   "source": [
    "from langchain.chains import SequentialChain\n",
    "\n",
    "chain = SequentialChain(\n",
    "    chains = [name_chain, food_item_chain],\n",
    "    input_variables = [\"cuisine\"],\n",
    "    output_variables = [\"restaurant_name\", \"menu_items\"]\n",
    ")\n",
    "\n",
    "chain.invoke({\"cuisine\": \"Arabic\"})"
   ]
  },
  {
   "cell_type": "code",
   "execution_count": null,
   "id": "28f972fc",
   "metadata": {},
   "outputs": [],
   "source": []
  }
 ],
 "metadata": {
  "kernelspec": {
   "display_name": "Python 3 (ipykernel)",
   "language": "python",
   "name": "python3"
  },
  "language_info": {
   "codemirror_mode": {
    "name": "ipython",
    "version": 3
   },
   "file_extension": ".py",
   "mimetype": "text/x-python",
   "name": "python",
   "nbconvert_exporter": "python",
   "pygments_lexer": "ipython3",
   "version": "3.11.5"
  }
 },
 "nbformat": 4,
 "nbformat_minor": 5
}
